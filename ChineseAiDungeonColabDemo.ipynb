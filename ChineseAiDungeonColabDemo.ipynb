{
 "cells": [
  {
   "cell_type": "markdown",
   "id": "2a45dcbe",
   "metadata": {},
   "source": [
    "# 中文ai 地牢 colab"
   ]
  },
  {
   "cell_type": "markdown",
   "id": "8fe7038b",
   "metadata": {},
   "source": [
    "- 点击\"代码执行程序\" -> \"全部运行\" 进行游戏\n",
    "- 安装依赖，下载模型和初始化大概会持续5分多钟时间\n",
    "- 如果模型输出的结果没对你的动作做出合理反应，或者一直重复某个事实，尝试忽略模型的重复，直接输入更加具体的你的动作，多几次总会走出来\n",
    "- 麻烦忽略模型输出中的一些逻辑问题，记住大体故事走向就好，这对游戏体验有好处（哈哈）"
   ]
  },
  {
   "cell_type": "markdown",
   "id": "69c34369",
   "metadata": {},
   "source": [
    "## 安装依赖 （忽略error就行）"
   ]
  },
  {
   "cell_type": "code",
   "execution_count": null,
   "id": "8dbf8fe4",
   "metadata": {},
   "outputs": [],
   "source": [
    "!git clone -q https://github.com/bupticybee/ChineseAiDungeon.git\n",
    "!mkdir -p /content/ChineseAiDungeon/models\n",
    "%cd /content/ChineseAiDungeon\n",
    "!pip3 uninstall -y tensorflow\n",
    "!pip3 install -r requirements.txt > tmp.log"
   ]
  },
  {
   "cell_type": "markdown",
   "id": "9ccf1277",
   "metadata": {},
   "source": [
    "## 下载模型 (由于谷歌限制可能暂时失效)"
   ]
  },
  {
   "cell_type": "code",
   "execution_count": null,
   "id": "c023ebbd",
   "metadata": {},
   "outputs": [],
   "source": [
    "!perl 3rd/gdown.pl/gdown.pl https://drive.google.com/open?id=1cJ1kvtPrV4TXxiadiGU6bJUAy11bRDm1 story_teller.zip\n",
    "!unzip story_teller.zip"
   ]
  },
  {
   "cell_type": "markdown",
   "id": "37267267",
   "metadata": {},
   "source": [
    "## 初始化"
   ]
  },
  {
   "cell_type": "code",
   "execution_count": null,
   "id": "e7d65efc",
   "metadata": {},
   "outputs": [],
   "source": [
    "from utils.story_helper import initize,Story\n",
    "initize(\"./tmp_weight/\")"
   ]
  },
  {
   "cell_type": "markdown",
   "id": "ded5ddc0",
   "metadata": {},
   "source": [
    "# 开始游戏"
   ]
  },
  {
   "cell_type": "code",
   "execution_count": null,
   "id": "e2cbf45c",
   "metadata": {},
   "outputs": [],
   "source": [
    "begin = f'''你在树林里冒险，指不定会从哪里蹦出来一些奇怪的东西，你握紧手上的手枪，希望这次冒险能够找到一些值钱的东西'''\n",
    "story = Story(begin)\n",
    "story.interactive()"
   ]
  },
  {
   "cell_type": "code",
   "execution_count": null,
   "id": "88ba1921",
   "metadata": {},
   "outputs": [],
   "source": []
  }
 ],
 "metadata": {
  "accelerator": "GPU",
  "kernelspec": {
   "display_name": "Python 3",
   "language": "python",
   "name": "python3"
  },
  "language_info": {
   "codemirror_mode": {
    "name": "ipython",
    "version": 3
   },
   "file_extension": ".py",
   "mimetype": "text/x-python",
   "name": "python",
   "nbconvert_exporter": "python",
   "pygments_lexer": "ipython3",
   "version": "3.7.3"
  }
 },
 "nbformat": 4,
 "nbformat_minor": 5
}
