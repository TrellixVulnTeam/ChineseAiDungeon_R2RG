{
 "cells": [
  {
   "cell_type": "markdown",
   "id": "c446fa8b",
   "metadata": {},
   "source": [
    "# 中文ai 地牢 colab"
   ]
  },
  {
   "cell_type": "markdown",
   "id": "92b23393",
   "metadata": {},
   "source": [
    "## 安装依赖"
   ]
  },
  {
   "cell_type": "code",
   "execution_count": null,
   "id": "bcd4c312",
   "metadata": {},
   "outputs": [],
   "source": [
    "!git clone -q https://github.com/bupticybee/ChineseAiDungeon.git\n",
    "!mkdir -p /content/ChineseAiDungeon/models\n",
    "%cd /content/ChineseAiDungeon\n",
    "!pip3 install -r requirements.txt > tmp.log"
   ]
  },
  {
   "cell_type": "markdown",
   "id": "46405650",
   "metadata": {},
   "source": [
    "## 下载模型"
   ]
  },
  {
   "cell_type": "code",
   "execution_count": null,
   "id": "67fb14f9",
   "metadata": {},
   "outputs": [],
   "source": [
    "!perl 3rd/gdown.pl/gdown.pl https://drive.google.com/open?id=1cJ1kvtPrV4TXxiadiGU6bJUAy11bRDm1 story_teller.zip\n",
    "!unzip story_teller.zip"
   ]
  },
  {
   "cell_type": "markdown",
   "id": "947bd97a",
   "metadata": {},
   "source": [
    "## 初始化"
   ]
  },
  {
   "cell_type": "code",
   "execution_count": null,
   "id": "6085fc56",
   "metadata": {},
   "outputs": [],
   "source": [
    "from utils.story_helper import initize,Story\n",
    "initize(\"./tmp_weight/\")"
   ]
  },
  {
   "cell_type": "markdown",
   "id": "887d68cb",
   "metadata": {},
   "source": [
    "# 开始游戏"
   ]
  },
  {
   "cell_type": "code",
   "execution_count": null,
   "id": "9632cf7a",
   "metadata": {},
   "outputs": [],
   "source": [
    "begin = f'''你在树林里冒险，指不定会从哪里蹦出来一些奇怪的东西，你握紧手上的手枪，希望这次冒险能够找到一些值钱的东西'''\n",
    "story = Story(begin)\n",
    "story.interactive()"
   ]
  },
  {
   "cell_type": "code",
   "execution_count": null,
   "id": "04dcd178",
   "metadata": {},
   "outputs": [],
   "source": []
  }
 ],
 "metadata": {
  "accelerator": "GPU",
  "kernelspec": {
   "display_name": "Python 3",
   "language": "python",
   "name": "python3"
  },
  "language_info": {
   "codemirror_mode": {
    "name": "ipython",
    "version": 3
   },
   "file_extension": ".py",
   "mimetype": "text/x-python",
   "name": "python",
   "nbconvert_exporter": "python",
   "pygments_lexer": "ipython3",
   "version": "3.7.3"
  }
 },
 "nbformat": 4,
 "nbformat_minor": 5
}
