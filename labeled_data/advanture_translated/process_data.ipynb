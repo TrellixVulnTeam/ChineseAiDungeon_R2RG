{
 "cells": [
  {
   "cell_type": "code",
   "execution_count": 2,
   "metadata": {},
   "outputs": [],
   "source": [
    "%load_ext autoreload\n",
    "%autoreload 2\n",
    "import random\n",
    "import os\n",
    "import sys\n",
    "sys.path.append(\"../../\")\n",
    "from utils.story_util import Story,Stories"
   ]
  },
  {
   "cell_type": "code",
   "execution_count": 39,
   "metadata": {},
   "outputs": [],
   "source": [
    "text = open(\"./valid_advantures_valid_translated.txt\",encoding='utf-8').read().strip()"
   ]
  },
  {
   "cell_type": "code",
   "execution_count": 40,
   "metadata": {
    "scrolled": true
   },
   "outputs": [],
   "source": [
    "contents = []\n",
    "while text:\n",
    "    p1 = text.find(\"<| startoftext |>\")\n",
    "    if p1 == -1:\n",
    "        break\n",
    "    p2 = min(text.find(\"<| endoftext |>\"),text.find(\"<| endoftext>\"))\n",
    "    if p2 == -1:\n",
    "        break\n",
    "    p3 = text.find(\"<|正文结束|>\")\n",
    "    if p3 < p2 and p3 >= 0:\n",
    "        p2 = p3\n",
    "    contents.append(text[p1 + 20:p2])\n",
    "    text = text[p2+1:]"
   ]
  },
  {
   "cell_type": "code",
   "execution_count": 41,
   "metadata": {},
   "outputs": [
    {
     "data": {
      "text/plain": [
       "85"
      ]
     },
     "execution_count": 41,
     "metadata": {},
     "output_type": "execute_result"
    }
   ],
   "source": [
    "len(contents)"
   ]
  },
  {
   "cell_type": "code",
   "execution_count": 42,
   "metadata": {},
   "outputs": [
    {
     "data": {
      "text/plain": [
       "10"
      ]
     },
     "execution_count": 42,
     "metadata": {},
     "output_type": "execute_result"
    }
   ],
   "source": [
    "contents[-26].count(\">\")"
   ]
  },
  {
   "cell_type": "code",
   "execution_count": 43,
   "metadata": {},
   "outputs": [
    {
     "data": {
      "text/plain": [
       "(352, -1)"
      ]
     },
     "execution_count": 43,
     "metadata": {},
     "output_type": "execute_result"
    }
   ],
   "source": [
    "p1,p2"
   ]
  },
  {
   "cell_type": "code",
   "execution_count": 44,
   "metadata": {},
   "outputs": [],
   "source": [
    "valid_content = [i for i in contents if i.count(\">\") > 2]"
   ]
  },
  {
   "cell_type": "code",
   "execution_count": 45,
   "metadata": {},
   "outputs": [
    {
     "data": {
      "text/plain": [
       "35"
      ]
     },
     "execution_count": 45,
     "metadata": {},
     "output_type": "execute_result"
    }
   ],
   "source": [
    "len(valid_content)"
   ]
  },
  {
   "cell_type": "code",
   "execution_count": 46,
   "metadata": {},
   "outputs": [],
   "source": [
    "stories = []\n",
    "num = 0\n",
    "for one_content in valid_content:\n",
    "    num += 1\n",
    "    parags = one_content.split(\">\")\n",
    "    one_story = Story(parags[0],str(num))\n",
    "    for one_parag in parags[1:]:\n",
    "        p1 = one_parag.find(\"\\n\")\n",
    "        action = one_parag[:p1]\n",
    "        result = one_parag[p1 + 1:]\n",
    "        if action.find(\"你说\") != -1:\n",
    "            one_story.add_action(action.replace(\"你说\",\"\"),\"说\",result,action)\n",
    "        else:\n",
    "            one_story.add_action(action,\"做\",result,action)\n",
    "    stories.append(one_story)"
   ]
  },
  {
   "cell_type": "code",
   "execution_count": 53,
   "metadata": {},
   "outputs": [
    {
     "name": "stdout",
     "output_type": "stream",
     "text": [
      "<start>\n",
      "故事名称：\n",
      "5\n",
      "故事背景：\n",
      "抓住刀刃，迅速环顾四周，然后冲向火山口的边缘，冲向离你左侧最近的爆破墙。附近一场爆炸将大块的泥土和石头以及一具尸体的手臂喷射到空中。你惊恐地看着附属物扑通一声掉到人行道上。  从你的左边，三个图里克战士冲向一个受伤的商人，用他们邪恶的带刺弯刀不断地刺伤他，然后洗劫了他的尸体。  在你的右边，你可以看到另一栋建筑，大约有20英尺宽，有一些裸露的地面。  你…吗：\n",
      "--------------------\n",
      "动作：\n",
      "做\n",
      "你去下一栋楼？\n",
      "结果：\n",
      "你跑到下一栋楼，一切看起来都很安全。没有人经过，街上到处都是尸体。也许先锋队已经过去了。深吸一口气，你往外看，感觉不到任何人。  你慢慢地站起来，朝下一栋楼走去。尽管你穿过一片20英尺宽的地方，但你还是安全地到达了下一站。在拐角处偷看，你会看到一个可怜的景象，一个金发小男孩在他父母的尸体上哭泣，尸体散落在瓦砾中，瓦砾曾经是他的建筑。一块燃烧着的巨石撞击鹅卵石发出刺耳的尖叫声，蒸发了你视野中的一切，把你击倒在地。  当你站起来的时候，你听到另一个爆炸声从后面传来。  当你重新站起来后，你就从男孩所在的地方开始。只剩下一个冒烟的火山口，周围环绕着一圈火焰。尽管你有着正常的坚忍性格，眼泪还是会从你的脸颊滑落。握紧你的刀刃，你强迫自己艰难前行。  向上三条街，你注意到一场交火正在进行。三支埃斯图军队蜷缩在一堵墙后。每个人都有一把弩，第四个士兵死了，脖子上插着一个螺栓。你蹲着朝他们的位置跑去，跪在军士旁边，问道：“军士情况如何？”。  他转过身，几乎要去拿他的剑，因为他不认识你，但他说：“雇佣军？”  你点了点头，他咕哝道：“我以为你们现在都逃了，见鬼，如果这不是我的家，我早就逃了。我想我很快就会死在这些旧墙里了。”  一个弩箭击中了墙壁，他又回到了战斗中。”好吧，我们正试图到达北边的防御阵地，但是该死的特瑞克斯把我们切断了。一个排大小的分队，只剩下我们，我们被切断了与主要集团。如果你能发射弩，欢迎你的帮助。见鬼，即使你做不到，你至少可以向那些混蛋开枪。”  你点点头，拿起弓弩，这是一把你非常熟练的弩，然后装上箭。”“他们在哪里？”你问。  他用一个插销在泥土里快速画了一张图，然后说，“我们在这里，他们在那边的护堤后面。我敢肯定在西边有个狙击手。不好的是，虽然我们看不到他，但他肯定能看到我们，而且他是个绝顶聪明的人。一枪干净利落地干掉了艾维，斯皮纳就在那边。”他指着15英尺外的一具埃斯特里恩尸体，背后插着一个螺栓。  护堤后面的那些白痴很差劲，但是他们用压制火力把我们钉住了，不能抬起头来不害怕拿螺栓，尽管狙击手，他才是真正的挑战。我们干掉他，我们可以侧翼进攻。如果他不死，我们就会陷入僵局。”  把弓弩加到你的库存中。  你可以考虑以下选项：   \n",
      "梗概：\n",
      "你去下一栋楼？\n",
      "--------------------\n",
      "动作：\n",
      "说\n",
      "“掩护我，我来对付狙击手。”\n",
      "结果：\n",
      "你同意留下来，但你必须先弄清楚狙击手在哪里，然后才能把他干掉。”嘿，士兵，让我借一下那个盾牌。“你抓住他的小金属盾牌，迅速把它举到你们都蹲在后面的小墙上面。果然，分心带来了一个小冰雹螺栓从你的前线那里，土耳其士兵盘踞，但他们错过了。然而，从你的右侧，一个螺栓猛击盾牌，将它从你手中击落，并在盾牌倒下前将它滚向你的左侧约10英尺。  “好的，士兵们，我知道狙击手在哪里。我要去瓦砾堆旁边的那堵小砖墙，当我说走的时候，我要你用你的弩向图里克的杂种们开火，直到我准备好为止。”  士兵们点头，锁上弓弩，蜷缩起来准备开火。  你数到三，然后开始向砖墙低蹲冲刺。与此同时，埃西特兰人把他们所有的火力都射向了泰瑞克士兵，他们在战乱结束前保持清醒。然后他们回击埃斯特里安人，你向右转向墙。你知道接下来的五英尺会很关键。  考验你的运气：     \n",
      "梗概：\n",
      "你说“掩护我，我来对付狙击手。”\n",
      "--------------------\n",
      "动作：\n",
      "做\n",
      "如果你的名字以B，E，F，J，P或Y开头。。。\n",
      "结果：\n",
      "当你直接在肋骨上插上一个螺栓时，你会躲开，闪避，冲刺，并且没有几秒钟的时间往家里跳。你不由自主地撞到砖头上，伤得很重，但你却蹦蹦跳跳地爬到墙后靠在墙上。  你现在有2耐力（3分之一），如果你的耐力降到0，你就死定了。  呼吸困难，你蹲下并装上你的弩，如果这是你做的最后一件事，你会得到那个狗娘养的。在快速祈祷之后，你从墙上转出来，朝着镜头的方向扫视建筑物，就像你在安全的墙上转回来一样快。一毫秒后，一个螺栓砸进了你刚刚栖息的瓦砾中。  你朝右上角的高塔窗户精神上俯冲过去。然后你绕过墙上的小孔瞄准。在里面你看到墙上的运动，你画了一个珠子。吸气。呼气。。。开火！  门闩在空中飞扬，你听到一声轻微的喘息声，然后一个人从窗户里摔了出去，掉到下面四层楼高的鹅卵石上。士兵们欢呼起来，你迅速向他们竖起大拇指。  现在来对付土耳其士兵。  你沿着墙移动到图里克十字弓的侧面，小心不要发出噪音或提醒他们注意你的位置。最后，你不能再往前走了，你可以探出你的头看看他们在哪里，有多少。你注意到五个人，每个人都在装弩。决定让它变成四个，你向最暴露的士兵开火，然后躲回墙后。一声尖叫回报了你的努力，土耳其士兵的喊叫表明他们现在有狙击手要对付。  你重新装好子弹，准备再打一枪。转身，瞄准，开火，然后躲开。一声尖叫伴随着那动作，你滑下墙去和中士交流。他正忙着指示他的士兵小心瞄准，但你注意到他的目光和动作，让他派另一名士兵到你的位置去。  你滑回到狙击手的位置，在你和士兵之间，躺下掩护火力，这时一个士兵冲向你躲在后面的墙。你现在有敌人的侧翼了。他看着你，枪栓伸出你的肋骨，呼气，但你的动作让他移动到角落。  他迅速看了一眼，看到一个土里克医生正在照顾他们的两个伤员，而两个士兵向你留下的士兵开火。你点点头，然后翻身瞄准医生，用一个能打碎他的头骨的螺栓把他救了出来。和你在一起的士兵跑到另一面墙的一边，在被围困的图里克战士的后面，中士和他的士兵继续从前面开火。  几秒钟后，你和你的士兵击落了最后两名图里克弩手。你来回挥舞你的手表示停火，你们都从废墟散落的战场上起来。中士和他的部下急忙向你道贺，“没有你及时的干预，我不知道我们会做什么。我是雷纳尔中士，这些士兵是科维斯和利克。我猜你是那个被他们称为“西尔弗”的女孩。我听说你很了不起，但很明显那些传说对你毫无意义。”  他看了看你身上的插销，畏缩着说：“看起来你为球队拿了一个，不幸的是，我们的医生躺在那里，他身上有一个插销，所以我要包扎起来，尽量保持无菌。我们正前往一个防御阵地，我们认为有一些友军驻扎在那里，如果你愿意的话，欢迎你来坐车。四个比一个好多了。”\n",
      "梗概：\n",
      "如果你的名字以B，E，F，J，P或Y开头。。。\n",
      "--------------------\n",
      "动作：\n",
      "说\n",
      "“谢谢你让我陪着……”\n",
      "结果：\n",
      "你和部队快速而安静地穿过小巷、小巷和城市的主要街道。有好几次你必须拔剑和敌人战斗，逃离其他的图里克团体，甚至是游荡在城市里的不死生物，然而，在你向安全的最后一步推进之前，你都会找到一个藏身的地方。您决定等到天黑后再继续前进。\n",
      "梗概：\n",
      "你说“谢谢你让我陪着……”\n",
      "<end>\n"
     ]
    }
   ],
   "source": [
    "one_story = random.choice(stories)\n",
    "print(one_story.to_str())"
   ]
  },
  {
   "cell_type": "code",
   "execution_count": 54,
   "metadata": {},
   "outputs": [],
   "source": [
    "with open(\"processed_translated_story_valid.txt\",'w',encoding='utf-8') as whdl:\n",
    "    for one_story in stories:\n",
    "        whdl.write(one_story.to_str())\n",
    "        whdl.write(\"\\n\")"
   ]
  },
  {
   "cell_type": "code",
   "execution_count": 87,
   "metadata": {},
   "outputs": [],
   "source": [
    "stories = Stories(\"../advanture_translated/processed_translated_story.txt\")"
   ]
  },
  {
   "cell_type": "code",
   "execution_count": 101,
   "metadata": {},
   "outputs": [
    {
     "name": "stdout",
     "output_type": "stream",
     "text": [
      "<start>\n",
      "故事名称：\n",
      "18\n",
      "故事背景：\n",
      "你把Kyros撞倒在地，双手捂住他的喉咙。他开始逐渐退出，钻研现实，而你努力让他脚踏实地。你们两个传送到竞技场的中间，而守卫的三名角斗士立即拉屎并争夺他们的枪支。再次脱离现实，你发现自己在一个空荡荡的走廊里。你知道他会在亚空间传送门开始形成时继续传送，直到你们都被搞砸了。你需要做点什么。  “战斗！战斗，卡斯！” 梅利奥达斯咆哮。  感觉他开始逐渐消失，你很快就开始让你和他飞过亚空间再次传送，这样你就可以选择下一个目的地，试图在它杀死你和船上的其他人之前结束这个循环.  是时候选择一个目的地了。\n",
      "--------------------\n",
      "动作：\n",
      "做\n",
      "在突变体出没的地区\n",
      "结果：\n",
      "你传送，然后发现自己在飞船上众多被变异人出没的坑洞中的一个。这是您真正知道的少数几个之一，因此它是您的传送目的地，因为您与一群独眼乌鸦战斗通过它来为叛变者保护它。在这里，成群的半智能变种人在监视器上工作，监视器设计得非常简单，一个蹒跚学步的孩子也能使用，这是幸运的，因为它需要这些白痴的最大智力努力。航站楼控制着空中管制，不是为了任何重要的人，而是为了随时可以使用的另一组变异工人。  “对对对！” 梅利奥达斯哭了。“完美，卡斯！完美！”  Kyros 哽咽的尖叫声很快通知了突变体你的存在。当它们开始蜂拥而至时，它们的原始本能立即接管了你。触手、爪子、手、脚、牙齿、尖牙、角和刺都会攻击你们。凯罗斯尖叫起来，他的注意力瞬间被打破，亚空间流在他周围消散。你滚开他们的攻击，带着一股精神能量迅速飞离他们的控制。此部分的重要作用意味着您可以看到维护电梯。你朝它跑去，抬起大门并在它下面滚动，你的手向上按下带有向上箭头的红色电梯按钮。由于黑暗诸神、神皇或宇宙本身的恩典，电梯立即做出反应。  Kyros 尖叫起来，因为变种人开始撕裂他。他的能量一直在与你战斗并试图打开亚空间传送门，但在电梯将你从他的视线中移开之前，他已经耗尽了精力，无法反击，无法集中注意力，也无法做任何事情，他发出一声可怜的尖叫。  你深吸一口气，靠在墙上。那个狗屎让你失去了很多。你听到远处 Kyros 的尖叫声，然后微笑起来。这有一些隐约的诗意。凯罗斯，一个声称捍卫人民权利的人，将人类从压迫中解放出来，摆脱了对灵能者、变种人和其他人的偏见，这些偏见与帝国对人类的完美看法不同，被他以变种人身份征服的变种人杀死并被奴役。美丽的。  你将头靠在墙上，深呼吸。你需要休息一下。\n",
      "梗概：\n",
      "在突变体出没的地区\n",
      "--------------------\n",
      "动作：\n",
      "做\n",
      "你回到你的房间\n",
      "结果：\n",
      "你走进卧室，立刻瘫倒在床上。当您将头靠在枕头上并闭上眼睛时，您想知道自己怎么可能睡着。  “卡斯！” 一个声音说。  你翻了个身，看到 Fay 站在门口。她的肘部缠着沾满鲜血的绷带，手里拿着一把血淋淋的弯刀。  “什么？” 你问，费伊微笑着。  “所以，这就是你一直藏身的地方，”她说着向你走来。  “躲起来？我真的刚到这里。我杀了 Kyros，”你补充道，试图漠不关心。  “刚到这里？你已经睡了几个小时了！” 她说。“我们清理了剩余的 Kyros 忠诚者。大多数人在 Kyros 被杀后才投降。”  “找到尸体了？” 你问。  “我们实际上希望你能帮忙。我们找不到。他在哪里被杀？”  “你怎么知道他死了？” 你问，揉着眼睛努力保持清醒。  “一些混沌灵能者感觉到他强大而明亮的灵魂消失了。我以为你杀了他。他们说他们仍然感觉到你的存在，谢谢......不管是谁在照顾我们。我的一部分认为他们错了直到我真的在这里找到你。发生了什么事？  “我们最终来到了一个被变异人占据的区域。他们把他撕成了碎片。区域……3C-QP……操，我不知道。我最终会记住的。”  “菲指挥官，报到！” 收音机里传来噼啪声。  “我找到了他，”费伊说。“给我几分钟，我们会聚在一起寻找幸存的忠诚者。”  费伊把收音机扔到一边，对你微笑。她坐在床边，把弯刀扔在地板上。  “所以，我们做到了。我们杀死了凯洛斯！” 她笑了。  “我们做到了，”你微笑。  “我们离一个神奇的、残废的 Uwais 和一个害怕的、赤身裸体的 Azajaja 相去甚远，”她笑着说。  “该死的。我们需要和其他人见面。”  “稍后，Karth。睡一觉。我需要做一些工作。我们明天早上见面。”  “很高兴，”你说，你的头撞在枕头上，Fay 笑着抓起刀片走出门。  是时候睡觉了。\n",
      "梗概：\n",
      "你回到你的房间\n",
      "--------------------\n",
      "动作：\n",
      "做\n",
      "新的黎明...\n",
      "结果：\n",
      "新的曙光...  你漫步到桥上，揉揉眼睛里的睡眠。其他人已经在那里，盯着窗外一颗巨大的黄矮星。Drake Amadeus 坐在主座位上，不耐烦地敲击着座位。两个部落站在他的两侧，既是保镖又是监狱看守。  往窗外看的其他人转过头来看你。他们立即爆发出热烈的掌声，你向前走时微笑。海耶斯船长表示敬意地点点头，德奇发出一声响亮的叮当声，试图用作为他手臂的金属尖刺拍手，而埃利奥斯微笑着，立即抓住机会把手放在你的肩膀上，它立即沿着你的胸膛伸向你的生殖器直到你轻轻推开他。罐头鼓掌的声音来自扬声器，大概来自 Primus，让你发笑。伊丽莎白也鼓掌，凯恩困惑地盯着鼓掌的人们，然后耸了耸肩，加入了轰隆隆的雷声，双胞胎为双胞胎鼓掌。Fay 紧紧地拥抱着你，然后你才让大家安静下来。  “你干掉了 Kyros，”伊丽莎白说。“感人的。”  “我不再需要赞美了，”你说。“我们需要讨论一下 hsip 会变成什么样子。”  “当你活得和我一样长时，你就会知道要珍惜美好的时光，而不是匆匆忙忙地向前冲，”德奇说。  “我们有一艘格洛丽安娜级战舰、一支军队和绝对的自由。世界是……不，银河系是我们的，”费伊微笑着说。  你凝视窗外，沐浴在温暖的金色阳光下，自从 Kyros 登陆你的星球以来，你第一次感到完全自由。  银河系是你的。\n",
      "梗概：\n",
      "新的黎明...\n",
      "<end>\n"
     ]
    }
   ],
   "source": [
    "print(random.choice(stories.stories).to_str())"
   ]
  },
  {
   "cell_type": "code",
   "execution_count": 89,
   "metadata": {},
   "outputs": [
    {
     "data": {
      "text/plain": [
       "304"
      ]
     },
     "execution_count": 89,
     "metadata": {},
     "output_type": "execute_result"
    }
   ],
   "source": [
    "len(stories.stories)"
   ]
  },
  {
   "cell_type": "markdown",
   "metadata": {},
   "source": [
    "# 28M raw data process"
   ]
  },
  {
   "cell_type": "code",
   "execution_count": 102,
   "metadata": {},
   "outputs": [],
   "source": [
    "text = open(\"./text_advanture_trans.txt\",'r').read()"
   ]
  },
  {
   "cell_type": "code",
   "execution_count": 105,
   "metadata": {},
   "outputs": [],
   "source": [
    "textsps = text.split(\"\\n>\")"
   ]
  },
  {
   "cell_type": "code",
   "execution_count": 112,
   "metadata": {},
   "outputs": [],
   "source": [
    "contents = []\n",
    "for one_sp  in textsps:\n",
    "    tmp = [i for i in one_sp.split(\"\\n\") if i.replace(\" \",\"\")]\n",
    "    contents.append(tmp)"
   ]
  },
  {
   "cell_type": "code",
   "execution_count": 362,
   "metadata": {},
   "outputs": [
    {
     "data": {
      "text/plain": [
       "7074"
      ]
     },
     "execution_count": 362,
     "metadata": {},
     "output_type": "execute_result"
    }
   ],
   "source": [
    "len(contents)"
   ]
  },
  {
   "cell_type": "code",
   "execution_count": 569,
   "metadata": {},
   "outputs": [],
   "source": [
    "small_contents = [i for i in contents if len(i) < 20]"
   ]
  },
  {
   "cell_type": "code",
   "execution_count": 570,
   "metadata": {},
   "outputs": [
    {
     "data": {
      "text/plain": [
       "4304"
      ]
     },
     "execution_count": 570,
     "metadata": {},
     "output_type": "execute_result"
    }
   ],
   "source": [
    "len(small_contents)"
   ]
  },
  {
   "cell_type": "code",
   "execution_count": 571,
   "metadata": {},
   "outputs": [],
   "source": [
    "import random"
   ]
  },
  {
   "cell_type": "code",
   "execution_count": 572,
   "metadata": {},
   "outputs": [
    {
     "data": {
      "text/plain": [
       "[' 你拒绝了她的提议',\n",
       " '“不，”你说。“我真的应该完成陷阱。”',\n",
       " '“哦，好吧，”罗斯说。',\n",
       " '“不过，我会在附近见到你，”你说。',\n",
       " '“是的，我想是的，”罗斯说。“我真的该走了。我妈妈会找我的。”',\n",
       " '“好的。再见，罗斯，”',\n",
       " '“再见，雅各布，”罗斯说，然后冲进树林。',\n",
       " '你看着她离开，然后转身设置其余的陷阱。']"
      ]
     },
     "execution_count": 572,
     "metadata": {},
     "output_type": "execute_result"
    }
   ],
   "source": [
    "random.choice(small_contents)"
   ]
  },
  {
   "cell_type": "code",
   "execution_count": 573,
   "metadata": {},
   "outputs": [],
   "source": [
    "import pandas as pd\n",
    "%matplotlib inline"
   ]
  },
  {
   "cell_type": "code",
   "execution_count": 741,
   "metadata": {},
   "outputs": [
    {
     "data": {
      "text/plain": [
       "array([[<AxesSubplot:title={'center':'0'}>]], dtype=object)"
      ]
     },
     "execution_count": 741,
     "metadata": {},
     "output_type": "execute_result"
    },
    {
     "data": {
      "image/png": "[encoded data removed]",
      "text/plain": [
       "<Figure size 432x288 with 1 Axes>"
      ]
     },
     "metadata": {
      "needs_background": "light"
     },
     "output_type": "display_data"
    }
   ],
   "source": [
    "pd.DataFrame([len(i) for i in small_contents]).hist(bins=10)"
   ]
  },
  {
   "cell_type": "code",
   "execution_count": 791,
   "metadata": {},
   "outputs": [],
   "source": [
    "tmp_data = []\n",
    "for i in range(len(contents)):\n",
    "    nowcontent = contents[i]\n",
    "    prevcontents = []\n",
    "    j = i - 1\n",
    "    while len(''.join(prevcontents)) < 500 and j >= 0:\n",
    "        prevcontents += contents[j]\n",
    "        j = j - 1\n",
    "    if(len(nowcontent) < 1000):\n",
    "        tmp_data.append([prevcontents,nowcontent])"
   ]
  },
  {
   "cell_type": "code",
   "execution_count": 803,
   "metadata": {},
   "outputs": [
    {
     "data": {
      "text/plain": [
       "[[' 第一次死亡...',\n",
       "  '就在布里杰堡外面，一个名叫卢克·哈洛兰的年轻人加入了你们的队伍：他死于肺结核，被乔治和雅各布·唐纳带走，并被允许乘坐他们的马车。在盐湖的岸边，他突然晕倒并因病去世。任何人都做不到，但他的死给党带来了黯淡的情绪。第二天，他被埋葬在盐湖岸边另一位在前往加利福尼亚的途中去世的定居者的坟墓。',\n",
       "  '迫于压力，您将在 9 月进入盐沙漠，那里炎热干燥，湿气重。马车艰难地穿越沙漠，拉动它们的牛在努力拉动马车时消耗了大量的水。詹姆斯·里德 (James Reed) 被迫放弃他的两辆马车，乔治·唐纳 (George Donner) 和另一位名叫路易斯·凯塞伯格 (Louis Keseberg) 的凶猛定居者都不得不放弃他们的一辆马车。整列马车被拉长了好几英里，带着马车的牛群被分开，其中许多人死了。不知何故，你设法让你的马车保持移动，让你的牛活着，但这种经历是噩梦般的。',\n",
       "  '最后，您和您的同伴穿越沙漠，在泉水扎营几天，这些时间都在围捕丢失的牛，从废弃的马车上找回东西，直到将近 9 月中旬，聚会才准备好继续。穿越沙漠杀死了许多牛，也花费了党的许多物资。大多数定居者，尤其是詹姆斯·里德，现在担心他们可能没有足够的食物来一路到达加利福尼亚。',\n",
       "  '一个计划很快就制定了：查尔斯·斯坦顿和另一位名叫威廉·麦卡琴的定居者（一个巨人，带着妻子和小女儿前往加利福尼亚）自愿骑着快马前往加利福尼亚的第一个贸易站萨特堡，收集新鲜补给品并带回派对。行动迅速，他们可能会在短短一个月内回来。如果你愿意，你可以和他们一起骑车去加利福尼亚，或者你可以继续和唐纳派对一起旅行。',\n",
       "  '你做什么工作？'],\n",
       " [' 你留在唐纳党',\n",
       "  '在查尔斯·斯坦顿和威廉·麦卡琴离开后，情况并没有好转。虽然你离开了沙漠印第安人现在开始在晚上从派对上偷马，脾气变得很差。随着食物变得稀缺和饥饿开始蔓延，定居者之间开始发生争吵。这种情况不可避免地在 10 月份以暴力达到高潮，当时两辆马车在爬上艰难的山丘时被卡住。',\n",
       "  \"而爬山，迫使詹姆斯·里德你的货车卡在岩石“小号车和其他属于富兰克林格雷夫斯（一个友好的人与他的妻子，7个子女和女婿旅行）碰撞。里德大发雷霆，咆哮道：“你该死的笨蛋，你别挡我的路！”“闭上你的嘴垃圾桶或我'会关闭它为你”树皮背约翰·斯奈德，一个脾气暴躁的驱动程序格雷夫斯工作。\",\n",
       "  '这时里德彻底发脾气，从马车上跳了下来，大步走向斯奈德，斯奈德倒在地上迎接他。您吃惊地看见一个长刃屠夫“的刀下里德闪闪发光”的手并没有谋杀他的眼睛。',\n",
       "  '你做什么工作？']]"
      ]
     },
     "execution_count": 803,
     "metadata": {},
     "output_type": "execute_result"
    }
   ],
   "source": [
    "random.choice(tmp_data)"
   ]
  },
  {
   "cell_type": "raw",
   "metadata": {},
   "source": [
    "<|正文结束|> <|文本结束|> <|startoftext|> <|endoftext|>"
   ]
  },
  {
   "cell_type": "code",
   "execution_count": 851,
   "metadata": {},
   "outputs": [
    {
     "data": {
      "text/plain": [
       "7074"
      ]
     },
     "execution_count": 851,
     "metadata": {},
     "output_type": "execute_result"
    }
   ],
   "source": [
    "len(tmp_data)"
   ]
  },
  {
   "cell_type": "code",
   "execution_count": 869,
   "metadata": {},
   "outputs": [],
   "source": [
    "specials = ['<|正文结束|>','<|文本结束|>','<|startoftext|>','<|endoftext|>','<| startoftext |>','<| endoftext |>']\n",
    "def replace_contents(content):\n",
    "    for i in specials:\n",
    "        content = content.replace(i,\"\")\n",
    "    return content"
   ]
  },
  {
   "cell_type": "code",
   "execution_count": 926,
   "metadata": {},
   "outputs": [],
   "source": [
    "train_data = []\n",
    "for prev,content in tmp_data:\n",
    "    tmp_prev = []\n",
    "    for i in prev:\n",
    "        i = i.strip()\n",
    "        replaced = replace_contents(i)\n",
    "        tmp_prev.append(replaced)\n",
    "    tmp_action = content[0].strip().replace(\"你你\",\"\").replace(\"罢工\",\"出手\").replace(\"教练\",\"马车\")\n",
    "    tmp_content = []\n",
    "    for i in content[1:]:\n",
    "        i = i.strip()\n",
    "        replaced = replace_contents(i)\n",
    "        tmp_content.append(replaced)\n",
    "        if(i != replaced):\n",
    "            break\n",
    "    if(len(tmp_content) < 15):\n",
    "        train_data.append({\n",
    "            \"previous\":tmp_prev,\n",
    "            \"action\":tmp_action,\n",
    "            \"result\":tmp_content})"
   ]
  },
  {
   "cell_type": "code",
   "execution_count": 927,
   "metadata": {},
   "outputs": [
    {
     "data": {
      "text/plain": [
       "4766"
      ]
     },
     "execution_count": 927,
     "metadata": {},
     "output_type": "execute_result"
    }
   ],
   "source": [
    "len(train_data)"
   ]
  },
  {
   "cell_type": "code",
   "execution_count": 989,
   "metadata": {},
   "outputs": [
    {
     "data": {
      "text/plain": [
       "{'previous': ['你远征',\n",
       "  '准备好你的补给品，你和家人道别，然后骑车前往村中心，那里聚集了三打兽人。',\n",
       "  '格鲁西姆朝群山点了点头，带领一行人往前走。你骑了一整天，穿过溪流、河流、田野和森林。',\n",
       "  '几天后，你来到了山脚下。另一边是帝国领地和奥辛之间的边界。',\n",
       "  '罗洛马格瞥了你一眼，扬起眉毛，指了指群山。你想知道为什么他似乎对山脉感到恼火，因为他知道你会穿越它们。',\n",
       "  '你举手',\n",
       "  '你举起手，首领的眼睛微微睁大，脸上掠过一丝笑容。似乎他希望你加入。首领开始呼唤名字，其中有你的和罗洛玛格的。',\n",
       "  '其他兽人在格鲁西姆的指挥下洗牌。你走向你的房子，为探险做准备。',\n",
       "  '你村会议',\n",
       "  '所有的兽人都站在村中心的一棵大树周围，等待你的首领格鲁西姆说话。他站在一块平坦的岩石上，俯视着所有人。',\n",
       "  '格鲁西姆有着所有兽人都拥有的乌鸦黑头发，两侧剃成莫霍克发型，后端一直延伸到他的上背部。白发散落在他威严的头发上。他的脸苍老而皱纹，使他看起来像一只脾气暴躁的斗牛犬，两颗锋利的牙齿从他的咬合处伸出，这是兽人的共同特征。',\n",
       "  '一时间你和他对视了一眼，左眼总是半闭着，一副心烦意乱的样子。虽然酋长是你见过的最冷静的兽人之一。',\n",
       "  '“每个人，”他开始说，“我注意到帝国正在我们领土之间的边界集结战士。”',\n",
       "  '他张开双臂。',\n",
       "  '“自从 Gigalak 把它给了长子，这些土地就是我们的家。” 他停顿了一下。“为了所有兽人、我们自己和子孙后代的福祉，我们需要确保这些土地得到保护。”',\n",
       "  '一些兽人开始呼唤鲜血，格鲁西姆对此摇了摇头。',\n",
       "  '“不行，我们得看帝国怎么做，不能出去打架，这次不行，要尽量避免冲突。现在，我亲自率领一支远征队前往边境，看看会发生什么。”帝国在做，估计还有其他兽人部落也在做，但如果他们与帝国作战，我们不会干涉。”',\n",
       "  '“那些粘在一起的狗屎怎么了？！” 一个兽人愤怒地哭泣。',\n",
       "  '“只有当他们先攻击我们时，我们才会战斗，我们不会与帝国开战。如果我们这样做，那将是致命的，而且时间会很长。”',\n",
       "  '你们都互相交谈。据首席 Greusim 称，这可能是一个非常不稳定的情况。你叫唤。',\n",
       "  '“如果他们保护自己的边界免受兽人袭击帝国土地怎么办？” 你问。“你知道一些部落是什么样的。”',\n",
       "  '如果你甚至可以这样称呼他们，有些兽人群体甚至都不是真正的部落。只是一群掠夺者、小偷和人渣。',\n",
       "  '“如果是这样的话，”酋长说，“我们会让他们知道他们不代表整个奥辛采取行动。也许，我们甚至可以代表其他部落帮助帝国对抗他们。”',\n",
       "  '兽人之间有争论。兽人联合起来对抗外部威胁，但从未与外国势力联合对抗其他兽人。兽人的事务，一直都由兽人部落负责。',\n",
       "  '帮助帝国对抗兽人同胞，不管他们是不是人渣，都是疯狂的。',\n",
       "  '“那么，我的朋友们，”Greusim 说，“谁会帮助我完成这个任务。”',\n",
       "  '许多人举起手来，酋长从人群中窥视，看看谁是最好的。',\n",
       "  '您想知道是否应该举手，探险可能需要您拥有的经验和专业知识。另一方面，你也不想长时间离开你的家人。虽然Gilikia坚强而勤奋，但两个孩子，一个婴儿和大量家务对她来说很难一个人处理。此外，还有一个事实是，在 Greusim 不在的情况下，可能需要有人管理村庄，这也是您愿意做的事情。'],\n",
       " 'action': '游山小径',\n",
       " 'result': ['狂风的残酷咬伤刺破了你的皮毛和皮衣。它带走了树上垂死的叶子，螺旋下降到下面的深处。峭壁指责地指出，而悬崖敢让你靠得太近。',\n",
       "  '你们都排成一排，确保您的马不会滑倒并跌落到下面的某些厄运中。',\n",
       "  '在上面的某个地方，有什么东西沿着岩石飞来飞去。上面什么也看不到，很奇怪。可能只是一些山区小动物在他们的一天。',\n",
       "  '最后，经过一整天的艰苦跋涉后，你离开了厄运的陡峭路径。前面的路要宽得多，有植被和水池供马匹使用。停下马休息，你们都挤在酋长身后，他从山上向外望去。',\n",
       "  '这座山弯曲成一个山谷，甚至在山谷下面是守卫奥辛的大森林。数英里长的树木，最终你可以看到远处的森林、丘陵、山脉和平原上散布着巨大的皇城。在右边，经过一条大河，是广阔的平原，是游牧的兽人部落以及游荡在奥辛的流浪者的家园。',\n",
       "  '“在这座创造了初生者的山峰之外，帝国正在寻找我们的土地，”格鲁西姆一边说，一边呼吸着新鲜的山间空气，指着下方的森林和平原。',\n",
       "  '“我们将热烈欢迎他们，或者大屠杀，”格鲁西姆说。“这是他们的选择。”',\n",
       "  '这群人在那里过夜，让守卫注意野生动物或会造成伤害的个人。',\n",
       "  '接下来的几天充满了多事的下山步行。',\n",
       "  '很快，通往山谷的道路就在眼前。']}"
      ]
     },
     "execution_count": 989,
     "metadata": {},
     "output_type": "execute_result"
    }
   ],
   "source": [
    "random.choice(train_data)"
   ]
  },
  {
   "cell_type": "code",
   "execution_count": 929,
   "metadata": {},
   "outputs": [],
   "source": [
    "import json"
   ]
  },
  {
   "cell_type": "code",
   "execution_count": 941,
   "metadata": {},
   "outputs": [],
   "source": [
    "with open(\"./truncated_advanture_train.json\",'w') as whdl:\n",
    "    json.dump(train_data[:4500],whdl)\n",
    "\n",
    "with open(\"./truncated_advanture_valid.json\",'w') as whdl:\n",
    "    json.dump(train_data[4500:],whdl)"
   ]
  },
  {
   "cell_type": "code",
   "execution_count": null,
   "metadata": {},
   "outputs": [],
   "source": []
  }
 ],
 "metadata": {
  "kernelspec": {
   "display_name": "Python 3",
   "language": "python",
   "name": "python3"
  },
  "language_info": {
   "codemirror_mode": {
    "name": "ipython",
    "version": 3
   },
   "file_extension": ".py",
   "mimetype": "text/x-python",
   "name": "python",
   "nbconvert_exporter": "python",
   "pygments_lexer": "ipython3",
   "version": "3.7.3"
  }
 },
 "nbformat": 4,
 "nbformat_minor": 4
}
