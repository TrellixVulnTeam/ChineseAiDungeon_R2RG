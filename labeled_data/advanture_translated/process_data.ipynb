{
 "cells": [
  {
   "cell_type": "code",
   "execution_count": 41,
   "metadata": {},
   "outputs": [
    {
     "name": "stdout",
     "output_type": "stream",
     "text": [
      "The autoreload extension is already loaded. To reload it, use:\n",
      "  %reload_ext autoreload\n"
     ]
    }
   ],
   "source": [
    "%load_ext autoreload\n",
    "%autoreload 2\n",
    "import random\n",
    "import os\n",
    "import sys\n",
    "sys.path.append(\"../../\")\n",
    "from utils.story_util import Story,Stories"
   ]
  },
  {
   "cell_type": "code",
   "execution_count": 1,
   "metadata": {},
   "outputs": [],
   "source": [
    "text = open(\"./train_adventures_valid_translated.txt\",encoding='utf-8').read().strip()"
   ]
  },
  {
   "cell_type": "code",
   "execution_count": 66,
   "metadata": {
    "scrolled": true
   },
   "outputs": [],
   "source": [
    "contents = []\n",
    "while text:\n",
    "    p1 = text.find(\"<|startoftext|>\")\n",
    "    if p1 == -1:\n",
    "        break\n",
    "    p2 = text.find(\"<|endoftext|>\")\n",
    "    p3 = text.find(\"<|正文结束|>\")\n",
    "    if p3 < p2 and p3 >= 0:\n",
    "        p2 = p3\n",
    "    contents.append(text[p1 + 15:p2])\n",
    "    text = text[p2+1:]"
   ]
  },
  {
   "cell_type": "code",
   "execution_count": 67,
   "metadata": {},
   "outputs": [
    {
     "data": {
      "text/plain": [
       "1228"
      ]
     },
     "execution_count": 67,
     "metadata": {},
     "output_type": "execute_result"
    }
   ],
   "source": [
    "len(contents)"
   ]
  },
  {
   "cell_type": "code",
   "execution_count": 68,
   "metadata": {},
   "outputs": [
    {
     "data": {
      "text/plain": [
       "3"
      ]
     },
     "execution_count": 68,
     "metadata": {},
     "output_type": "execute_result"
    }
   ],
   "source": [
    "contents[-26].count(\">\")"
   ]
  },
  {
   "cell_type": "code",
   "execution_count": 69,
   "metadata": {},
   "outputs": [
    {
     "data": {
      "text/plain": [
       "(-1, 2939)"
      ]
     },
     "execution_count": 69,
     "metadata": {},
     "output_type": "execute_result"
    }
   ],
   "source": [
    "p1,p2"
   ]
  },
  {
   "cell_type": "code",
   "execution_count": 70,
   "metadata": {},
   "outputs": [],
   "source": [
    "valid_content = [i for i in contents if i.count(\">\") > 2]"
   ]
  },
  {
   "cell_type": "code",
   "execution_count": 71,
   "metadata": {},
   "outputs": [
    {
     "data": {
      "text/plain": [
       "304"
      ]
     },
     "execution_count": 71,
     "metadata": {},
     "output_type": "execute_result"
    }
   ],
   "source": [
    "len(valid_content)"
   ]
  },
  {
   "cell_type": "code",
   "execution_count": 99,
   "metadata": {},
   "outputs": [],
   "source": [
    "stories = []\n",
    "num = 0\n",
    "for one_content in valid_content:\n",
    "    num += 1\n",
    "    parags = one_content.split(\">\")\n",
    "    one_story = Story(parags[0],str(num))\n",
    "    for one_parag in parags[1:]:\n",
    "        p1 = one_parag.find(\"\\n\")\n",
    "        action = one_parag[:p1]\n",
    "        result = one_parag[p1 + 1:]\n",
    "        if action.find(\"你说\") != -1:\n",
    "            one_story.add_action(action.replace(\"你说\",\"\"),\"说\",result,action)\n",
    "        else:\n",
    "            one_story.add_action(action,\"做\",result,action)\n",
    "    stories.append(one_story)"
   ]
  },
  {
   "cell_type": "code",
   "execution_count": 126,
   "metadata": {},
   "outputs": [
    {
     "name": "stdout",
     "output_type": "stream",
     "text": [
      "<start>\n",
      "故事名称：\n",
      "64\n",
      "故事背景：\n",
      "你倒在地上，被打败了。你的身体已经耗尽了最后一盎司的能量，完全无法移动。你的骨头碎裂开裂。尽管你不顾一切地试图说服你的身体做出回应，但你的请求没有得到回应。你放弃所有希望，接受你的命运。  你抬头看到一个穿着全身铠甲的身影，在阳光下闪闪发光。又是那个该死的圣骑士……  当他准备好他的剑来完成交易时，他散发着神圣的光环。你看到他的嘴唇在动，但你的感官早已停止为你服务，所以你只能猜测他在说什么。  他用剑猛击你的头骨，一切都变黑了......   \n",
      "--------------------\n",
      "动作：\n",
      "做\n",
      " 你醒了……\n",
      "结果：\n",
      "你醒来。  阳光明媚，耀眼的光芒照进房间。  鸟儿唱着一首歌，可以让最残暴的暴君进入平静状态。  一切都很平静。  你绝对讨厌它。  你是祖里古尔，拉格霍尔姆王国中最强大、最有才华、最英俊的巫妖。你是拉格霍尔姆历史上唯一有记载的巫妖，这对你很有帮助。  你在非生命中的目标是完全征服这片土地，把它变成一个黑暗和痛苦的深渊，这是你的巫师学校的恶霸完全应得的。  你看着你的护命匣，你用了 40 年的时间来完善这个美丽的水晶球。在死亡中，它是使你不朽的力量灯塔；除非它被摧毁，否则在你“死亡”几天后不断地恢复你的身体形态。     \n",
      "梗概：\n",
      " 你醒了……\n",
      "--------------------\n",
      "动作：\n",
      "做\n",
      " 你是时候抱怨你的失败了\n",
      "结果：\n",
      "您最近的失败是由查德利·麦克布拉文哈特 (Chadley McBravenheart) 手中的，他是这片土地上最著名的圣骑士。作为一名神圣的战士，他宣誓的职责是保护人民对抗你这个王国中最有才华和最强大的巫妖。  不幸的是，在这一点上，他连续 94 次破坏了你的身体形态而没有划伤，因为他在作弊！他使用神圣的魔法来保护自己，并打击你，因为显然想要接管王国是“邪恶的”，这使得天空中的一些魔法实体不喜欢你。  你想出一个计划来报复查德利，他肯定会比你的下一个计划更胜一筹，甚至比上一个更精彩！  你决定这次你会......  .\n",
      "梗概：\n",
      " 你是时候抱怨你的失败了\n",
      "--------------------\n",
      "动作：\n",
      "做\n",
      " 你.....创造一种炼金混合物来帮助你战斗\n",
      "结果：\n",
      "你走近你的炼金术台，因为几个月的疏忽，它布满了灰尘。最近，您用于出色研究的资金很少，而且炼金术可能很昂贵，所以您一直在寻找击败查德利的替代方法，但这次您知道这将是值得的。  您花了一些时间清理该区域，不知不觉中，您所有的烧杯和烧瓶看起来都像新的一样，有或有一些划痕、裂缝和孔洞。您还清理了在整个房子的各种锅、平底锅和架子上找到的一些基本材料。  你在意识到你完全没有毒药的炼金成分之前加热了各种烧杯，所以除非你再买一些，否则你将不得不坚持使用某种药水来增强你的力量。  你决定……   \n",
      "梗概：\n",
      " 你.....创造一种炼金混合物来帮助你战斗\n",
      "--------------------\n",
      "动作：\n",
      "做\n",
      " 你……去购物！\n",
      "结果：\n",
      "你走出家门回头看。微小的，被侵蚀的石头结构看起来随时都会倒塌……甜蜜的家。  您步行到首都，经过漫长而艰巨的旅程，经过 30 秒的艰苦跋涉，您终于到达了城门。  查德利坐在他英勇的骏马上，打断了您愉快的散步。  “你觉得你在这里做什么？我上次告诉过你——”  你打断了傻瓜，说你来这里只是为了购买炼金成分来摧毁他。  “哦，那好吧。” 查德利回答说他允许你通过。显然，由于恐惧在他的全身蔓延，你计划的纯粹独创性让他沉默了。   \n",
      "梗概：\n",
      " 你……去购物！\n",
      "--------------------\n",
      "动作：\n",
      "做\n",
      " 你走到炼金店。\n",
      "结果：\n",
      "你走进商店，柜台前的男人高兴地笑了。  “哦，Zurigul，很高兴再次见到你。你上次用魔药打败那个卑鄙的老查德利已经有几个月了。”  你向柜台的人解释你的财务状况不佳，导致你尝试其他形式的战斗。  “哦，你放心，我明白了，这次我还要给你打折，你平时的一包食材只要5金币。”  很高兴遇到如此惊人的储蓄，你兴高采烈地把你的五个金“块”摔在桌子上。小雕像在透过建筑物窗户的阳光下闪闪发光。通常他要十个。谁有足够的金像来买一些植物和真菌？  回到家，店主给了你这么大的折扣，却出奇地高兴。然后，您将用剩下的一天时间调制您所见过的最令人愉快的致命药水。第二天来了，你去   \n",
      "梗概：\n",
      " 你走到炼金店。\n",
      "--------------------\n",
      "动作：\n",
      "做\n",
      " 你用强大的毒药对抗查德利。\n",
      "结果：\n",
      "你又一次艰难地前往首都，查德利问你在做什么。  你告诉他，你来这里是为了用你昨晚花了这么多时间酿造的极其致命的毒药最终打败了他。  查德利下马准备战斗；他的剑在他的每一次打击之前都散发着令人作呕的黄白色光芒。  你决定迈出第一步\n",
      "梗概：\n",
      " 你用强大的毒药对抗查德利。\n",
      "--------------------\n",
      "动作：\n",
      "做\n",
      " 你向他投毒！\n",
      "结果：\n",
      "你用尽全力将那瓶毒药扔向查德利，然后猛烈地将它粉碎……完全错过了他，落在了你面前 3 英尺的地面上。  你忘了这一点，因为你是一个没有肌肉的骷髅巫妖，你不再擅长扔东西了，并不是说你在生活中真的是一个很好的运动员。  查德利立即向前冲锋，将你粉碎成碎片。   \n",
      "梗概：\n",
      " 你向他投毒！\n",
      "--------------------\n",
      "动作：\n",
      "说\n",
      " 不定下次会得到他......\n",
      "结果：\n",
      "那么现在你完成了无能者祖里古尔，你如何评价它？请注意，作者不会看到您的个人评分；选择评级后，您将有机会发表个人评论。1 - 远离。很远很远2 - 好......让你大便3 - 选择你自己的无聊4 - 比家庭作业更有趣5 - 不是最好的，当然也不是最差的6 - 每一分钱都值得7 - 甚至比 Reeses' Cups® 更好8 - 它会给你带来启示如果您真的不想留下评分，您可以随时单击此处继续评论屏幕。不确定要评价什么？查看评分和发表评论的提示。\n",
      "梗概：\n",
      " 你说不定下次会得到他......\n",
      "<end>\n"
     ]
    }
   ],
   "source": [
    "one_story = random.choice(stories)\n",
    "print(one_story.to_str())"
   ]
  },
  {
   "cell_type": "code",
   "execution_count": null,
   "metadata": {},
   "outputs": [],
   "source": [
    "with open(\"processed_translated_story.txt\",'w',encoding='utf-8') as whdl:\n",
    "    for one_story in stories:\n",
    "        whdl.write(one_story.to_str())\n",
    "        whdl.write(\"\\n\")"
   ]
  },
  {
   "cell_type": "code",
   "execution_count": 42,
   "metadata": {},
   "outputs": [],
   "source": [
    "stories = Stories(\"../advanture_translated/processed_translated_story.txt\")"
   ]
  },
  {
   "cell_type": "code",
   "execution_count": 50,
   "metadata": {},
   "outputs": [
    {
     "name": "stdout",
     "output_type": "stream",
     "text": [
      "<start>\n",
      "故事名称：\n",
      "299\n",
      "故事背景：\n",
      "你用头撞着米哈拉布的脸，把他撞倒在墙上。枪不行了 你需要找到别的东西。当 Mihrab 用某种早已死寂的语言发誓时，你迅速走下楼梯。你跑得很快，发现自己在城堡的较低楼层。另一个楼梯直通庭院，你可以在那里引诱 Mihrab 到外面。希望狼人会疯狂把他干掉，而你可以溜回城堡。您还可以深入城堡，前往格雷伯爵的棺材和内部区域。\n",
      "--------------------\n",
      "动作：\n",
      "做\n",
      "你向内走\n",
      "结果：\n",
      "你转身，跑进城堡更远的地方。你会听到 Mihrab 在你身后咆哮，他向你冲过来。突然，他以不自然的速度猛烈撞击您，当他的爪子切开您的背部时，您将向前倾倒。你呻吟着，在你推开门并在你身后砰地关上，锁上门时，迅速蹒跚着向前。米哈拉布立即刺穿，他的爪子伸向钥匙。你绝望地环顾四周，发现自己在格雷伯爵棺材的房间里。你环顾四周，在你记得通往军械库的一侧发现一扇橡木门。在那里，您可以获得足够的火力来做某事。  你也可以去拿那把骄傲地挂在格雷伯爵棺材上的剑。它应该是一个伟大而强大的人。你可以尝试得到它，也许在混战中最好地他。如果你非常非常幸运。\n",
      "梗概：\n",
      "你向内走\n",
      "--------------------\n",
      "动作：\n",
      "做\n",
      "你前往军械库\n",
      "结果：\n",
      "你转身，冲向军械库。你听到身后的门被打开，听到 Mihrab 走近。你拼命向前跑，但米哈拉布更快、更强壮，而且愤怒得要命。当你拼命奔跑时，你感觉 Mihrab 抓住了你。当你痛苦地大叫时，他把你扔到墙上，然后冲上前用爪子刺穿你的脖子。当血液充满你的喉咙并流下你的胸膛时，你发出一声痛苦的叫喊，然后 Mihrab 抓住你的头并迅速扭动它，折断了你的脖子。<|startoftext|\n",
      "梗概：\n",
      "你前往军械库\n",
      "--------------------\n",
      "动作：\n",
      "做\n",
      "你转身，跑进城堡。你会听到 Mihrab 在你身后咆哮，他向你冲过来。突然，他以不自然的速度猛烈撞击您，当他的爪子切开您的背部时，您将向前倾倒。你呻吟着，在你推开门并在你身后砰地关上，锁上门时，迅速蹒跚着向前。米哈拉布立即刺穿，他的爪子伸向钥匙。你绝望地环顾四周，发现自己在格雷伯爵棺材的房间里。你环顾四周，在你记得通往军械库的一侧发现一扇橡木门。在那里，您可以获得足够的火力来做某事。\n",
      "结果：\n",
      "你也可以去拿那把骄傲地挂在格雷伯爵棺材上的剑。它应该是一个伟大而强大的人。你可以尝试得到它，也许在混战中最好地他。如果你非常非常幸运。\n",
      "梗概：\n",
      "你转身，跑进城堡。你会听到 Mihrab 在你身后咆哮，他向你冲过来。突然，他以不自然的速度猛烈撞击您，当他的爪子切开您的背部时，您将向前倾倒。你呻吟着，在你推开门并在你身后砰地关上，锁上门时，迅速蹒跚着向前。米哈拉布立即刺穿，他的爪子伸向钥匙。你绝望地环顾四周，发现自己在格雷伯爵棺材的房间里。你环顾四周，在你记得通往军械库的一侧发现一扇橡木门。在那里，您可以获得足够的火力来做某事。\n",
      "--------------------\n",
      "动作：\n",
      "做\n",
      "你去拿剑\n",
      "结果：\n",
      "你抓住棺材的顶部，感觉不舒服，因为暗能量仍在散发。你把自己拉到上面，抓住挂在那里的剑。你把自己拉到棺材上，伸手抓住剑柄。尽管是皮革制成的握把，但摸起来冰冷。当 Mihrab 破门而入时，你从棺材上跳下来，恶意地盯着你看。  “你要刺我吗？用你从未学会使用的小剑？你一直很烦人。现在，一切都结束了。”  米哈拉布咆哮着冲向你，爪子一挥就冲向你，他的眼中充满了漫不经心的愤怒。\n",
      "梗概：\n",
      "你去拿剑\n",
      "--------------------\n",
      "动作：\n",
      "做\n",
      "你闪躲\n",
      "结果：\n",
      "你翻滚躲避打击，米哈拉布满怀怒火冲过去。他停下来，转过身来，深呼吸，盯着你看。他再吸一口气，缓慢而有条不紊地向前走去。\n",
      "梗概：\n",
      "你闪躲\n",
      "--------------------\n",
      "动作：\n",
      "做\n",
      "你闪躲\n",
      "结果：\n",
      "当你回避时，他像毒蛇一样出击，但他滑到一边。他猛地砍下他的手，在抓住你之前切开你的脸。当你痛苦地尖叫时，他用爪子刺入你的眼睛，然后抓住你的头，快速扭动并咬断你的脖子。\n",
      "梗概：\n",
      "你闪躲\n",
      "<end>\n"
     ]
    }
   ],
   "source": [
    "print(stories.stories[-6].to_str())"
   ]
  },
  {
   "cell_type": "code",
   "execution_count": null,
   "metadata": {},
   "outputs": [],
   "source": []
  }
 ],
 "metadata": {
  "kernelspec": {
   "display_name": "Python 3",
   "language": "python",
   "name": "python3"
  },
  "language_info": {
   "codemirror_mode": {
    "name": "ipython",
    "version": 3
   },
   "file_extension": ".py",
   "mimetype": "text/x-python",
   "name": "python",
   "nbconvert_exporter": "python",
   "pygments_lexer": "ipython3",
   "version": "3.6.5"
  }
 },
 "nbformat": 4,
 "nbformat_minor": 2
}
